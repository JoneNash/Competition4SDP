{
 "cells": [
  {
   "cell_type": "code",
   "execution_count": 25,
   "metadata": {
    "collapsed": false
   },
   "outputs": [],
   "source": [
    "from sklearn import cross_validation, metrics\n",
    "from sklearn.grid_search import GridSearchCV\n",
    "from sklearn.ensemble import GradientBoostingClassifier\n",
    "import xgboost as xgb\n",
    "from xgboost.sklearn import XGBClassifier\n",
    "import pandas as pd\n",
    "import numpy as np\n",
    "import matplotlib.pyplot as plt\n",
    "import seaborn as sns\n",
    "from sklearn.preprocessing import Imputer\n",
    "from sklearn.preprocessing import PolynomialFeatures\n",
    "from sklearn.preprocessing import StandardScaler\n",
    "from sklearn.feature_selection import VarianceThreshold\n",
    "from sklearn.feature_selection import SelectFromModel\n",
    "from sklearn.utils import shuffle\n",
    "from sklearn.ensemble import RandomForestClassifier\n",
    "import matplotlib.pylab as plt\n",
    "from matplotlib.pylab import rcParams\n",
    "%matplotlib inline\n",
    "rcParams['figure.figsize'] = 12, 4"
   ]
  },
  {
   "cell_type": "code",
   "execution_count": 26,
   "metadata": {
    "collapsed": true
   },
   "outputs": [],
   "source": [
    "#评估方法\n",
    "def gini(actual, pred, cmpcol = 0, sortcol = 1):\n",
    "     assert( len(actual) == len(pred) )\n",
    "     all = np.asarray(np.c_[ actual, pred, np.arange(len(actual)) ], dtype=np.float)\n",
    "     all = all[ np.lexsort((all[:,2], -1*all[:,1])) ]\n",
    "     totalLosses = all[:,0].sum()\n",
    "     giniSum = all[:,0].cumsum().sum() / totalLosses\n",
    " \n",
    "     giniSum -= (len(actual) + 1) / 2.\n",
    "     return giniSum / len(actual)\n",
    "\n",
    "def gini_normalized(a, p):\n",
    "        return gini(a, p) / gini(a, a)\n",
    "    \n",
    "\n",
    "\n",
    "#模型训练\n",
    "def xgboostModelFit(alg, dtrain, dtest, predictors,useTrainCV=True, cv_folds=5, early_stopping_rounds=50):\n",
    "    \n",
    "    if useTrainCV:\n",
    "        xgb_param = alg.get_xgb_params()\n",
    "        xgtrain = xgb.DMatrix(dtrain[predictors].values, label=dtrain[target].values)\n",
    "        xgtest = xgb.DMatrix(dtest[predictors].values)\n",
    "        cvresult = xgb.cv(xgb_param, xgtrain, num_boost_round=alg.get_params()['n_estimators'], nfold=cv_folds,\n",
    "            metrics='auc', early_stopping_rounds=early_stopping_rounds)\n",
    "        alg.set_params(n_estimators=cvresult.shape[0])\n",
    "    \n",
    "    #模型训练\n",
    "    alg.fit(dtrain[predictors], dtrain['target'],eval_metric='auc')\n",
    "        \n",
    "    #模型预测-训练集\n",
    "    dtrain_predictions = alg.predict(dtrain[predictors])\n",
    "    dtrain_predprob = alg.predict_proba(dtrain[predictors])[:,1]\n",
    "        \n",
    "    #输出模型效果-训练集:\n",
    "    print \"\\nModel Report- train data\"\n",
    "    print \"Accuracy（Train） : %.4g\" % metrics.accuracy_score(dtrain['target'].values, dtrain_predictions)\n",
    "    print \"AUC Score (Train): %f\" % metrics.roc_auc_score(dtrain['target'], dtrain_predprob)\n",
    "    print \"GINI Score (Train): %f\" % gini_normalized(dtrain['target'], dtrain_predprob)\n",
    "    \n",
    "    #模型预测-测试集\n",
    "    dtest['prediction'] = alg.predict(dtest[predictors])\n",
    "    dtest['predprob'] = alg.predict_proba(dtest[predictors])[:,1]\n",
    "    #输出模型效果-测试集\n",
    "    print \"\\nModel Report- test data\"\n",
    "    print \"Accuracy（Test） : %.4g\" % metrics.accuracy_score(dtest['target'].values,dtest['prediction'])\n",
    "    print 'AUC Score (Test): %f' % metrics.roc_auc_score(dtest['target'], dtest['predprob'])\n",
    "    print \"GINI Score (Test): %f\" % gini_normalized(dtest['target'], dtest['predprob'])\n",
    "    \n",
    "    return alg"
   ]
  },
  {
   "cell_type": "code",
   "execution_count": 27,
   "metadata": {
    "collapsed": true
   },
   "outputs": [],
   "source": [
    "target='target'\n",
    "IDcol = 'id'\n",
    "tag='tag'\n"
   ]
  },
  {
   "cell_type": "code",
   "execution_count": 28,
   "metadata": {
    "collapsed": false
   },
   "outputs": [
    {
     "name": "stdout",
     "output_type": "stream",
     "text": [
      "(476169, 60)\n",
      "(119043, 60)\n"
     ]
    }
   ],
   "source": [
    "train1 = pd.read_csv('/Users/leidelong/competition/Porto_Seguro_Safe_Driver_Prediction/input/train_validation_tag.csv')\n",
    "# train1 = pd.read_csv('/Users/leidelong/competition/Porto_Seguro_Safe_Driver_Prediction/input/train_extends_baseline.csv')\n",
    "\n",
    "# test1 = pd.read_csv(\"/Users/leidelong/competition/Porto_Seguro_Safe_Driver_Prediction/input/test.csv\")\n",
    "train_old=train1[train1['tag']=='train']\n",
    "validation_old=train1[train1['tag']=='validation']\n",
    "print train_old.shape\n",
    "print validation_old.shape"
   ]
  },
  {
   "cell_type": "code",
   "execution_count": 29,
   "metadata": {
    "collapsed": false
   },
   "outputs": [
    {
     "name": "stdout",
     "output_type": "stream",
     "text": [
      "\n",
      "Model Report- train data\n",
      "Accuracy（Train） : 0.6389\n",
      "AUC Score (Train): 0.647110\n",
      "GINI Score (Train): 0.294231\n"
     ]
    },
    {
     "name": "stderr",
     "output_type": "stream",
     "text": [
      "/Library/Python/2.7/site-packages/ipykernel/__main__.py:42: SettingWithCopyWarning: \n",
      "A value is trying to be set on a copy of a slice from a DataFrame.\n",
      "Try using .loc[row_indexer,col_indexer] = value instead\n",
      "\n",
      "See the caveats in the documentation: http://pandas.pydata.org/pandas-docs/stable/indexing.html#indexing-view-versus-copy\n"
     ]
    },
    {
     "name": "stdout",
     "output_type": "stream",
     "text": [
      "\n",
      "Model Report- test data\n",
      "Accuracy（Test） : 0.6381\n",
      "AUC Score (Test): 0.631639\n",
      "GINI Score (Test): 0.263289\n"
     ]
    },
    {
     "name": "stderr",
     "output_type": "stream",
     "text": [
      "/Library/Python/2.7/site-packages/ipykernel/__main__.py:43: SettingWithCopyWarning: \n",
      "A value is trying to be set on a copy of a slice from a DataFrame.\n",
      "Try using .loc[row_indexer,col_indexer] = value instead\n",
      "\n",
      "See the caveats in the documentation: http://pandas.pydata.org/pandas-docs/stable/indexing.html#indexing-view-versus-copy\n"
     ]
    }
   ],
   "source": [
    "predictors1 = [x for x in train_old.columns if x not in [target, IDcol,tag]]\n",
    "\n",
    "xgb1 = XGBClassifier(\n",
    "        learning_rate =0.1,\n",
    "        n_estimators=20,\n",
    "        max_depth=5,\n",
    "        min_child_weight=1,\n",
    "        gamma=0,\n",
    "        subsample=0.8,\n",
    "        colsample_bytree=0.8,\n",
    "        objective= 'binary:logistic',\n",
    "        nthread=4,\n",
    "        scale_pos_weight=26.4, #解决样本不均衡的问题\n",
    "        seed=27)\n",
    "\n",
    "alg_before=xgboostModelFit(xgb1, train_old, validation_old, predictors1)"
   ]
  },
  {
   "cell_type": "code",
   "execution_count": 30,
   "metadata": {
    "collapsed": false
   },
   "outputs": [
    {
     "name": "stdout",
     "output_type": "stream",
     "text": [
      "57\n"
     ]
    }
   ],
   "source": [
    "print \tlen(predictors1)"
   ]
  },
  {
   "cell_type": "code",
   "execution_count": 31,
   "metadata": {
    "collapsed": false
   },
   "outputs": [
    {
     "name": "stdout",
     "output_type": "stream",
     "text": [
      "(476169, 179)\n",
      "(119043, 179)\n"
     ]
    }
   ],
   "source": [
    "# 用于检查特征处理流程中是否存在问题\n",
    "# train2 = pd.read_csv('/Users/leidelong/competition/Porto_Seguro_Safe_Driver_Prediction/input/train_extends_baseline.csv')\n",
    "\n",
    "train2 = pd.read_csv('/Users/leidelong/competition/Porto_Seguro_Safe_Driver_Prediction/input/train_extends.csv')\n",
    "\n",
    "\n",
    "train_extends=train2[train2['tag']=='train']\n",
    "validation_extends=train2[train2['tag']=='validation']\n",
    "print train_extends.shape\n",
    "print validation_extends.shape\n"
   ]
  },
  {
   "cell_type": "code",
   "execution_count": 32,
   "metadata": {
    "collapsed": false
   },
   "outputs": [
    {
     "name": "stdout",
     "output_type": "stream",
     "text": [
      "176\n"
     ]
    }
   ],
   "source": [
    "predictors2 = [x for x in train_extends.columns if x not in [target, IDcol,tag]]\n",
    "print len(predictors2)"
   ]
  },
  {
   "cell_type": "code",
   "execution_count": 33,
   "metadata": {
    "collapsed": false,
    "scrolled": true
   },
   "outputs": [
    {
     "name": "stdout",
     "output_type": "stream",
     "text": [
      "\n",
      "Model Report- train data\n",
      "Accuracy（Train） : 0.6348\n",
      "AUC Score (Train): 0.652642\n",
      "GINI Score (Train): 0.305284\n"
     ]
    },
    {
     "name": "stderr",
     "output_type": "stream",
     "text": [
      "/Library/Python/2.7/site-packages/ipykernel/__main__.py:42: SettingWithCopyWarning: \n",
      "A value is trying to be set on a copy of a slice from a DataFrame.\n",
      "Try using .loc[row_indexer,col_indexer] = value instead\n",
      "\n",
      "See the caveats in the documentation: http://pandas.pydata.org/pandas-docs/stable/indexing.html#indexing-view-versus-copy\n"
     ]
    },
    {
     "name": "stdout",
     "output_type": "stream",
     "text": [
      "\n",
      "Model Report- test data\n",
      "Accuracy（Test） : 0.6326\n",
      "AUC Score (Test): 0.632502\n",
      "GINI Score (Test): 0.265006\n"
     ]
    },
    {
     "name": "stderr",
     "output_type": "stream",
     "text": [
      "/Library/Python/2.7/site-packages/ipykernel/__main__.py:43: SettingWithCopyWarning: \n",
      "A value is trying to be set on a copy of a slice from a DataFrame.\n",
      "Try using .loc[row_indexer,col_indexer] = value instead\n",
      "\n",
      "See the caveats in the documentation: http://pandas.pydata.org/pandas-docs/stable/indexing.html#indexing-view-versus-copy\n"
     ]
    }
   ],
   "source": [
    "\n",
    "xgb2 = XGBClassifier(\n",
    "        learning_rate =0.1,\n",
    "        n_estimators=20,\n",
    "        max_depth=5,\n",
    "        min_child_weight=1,\n",
    "        gamma=0,\n",
    "        subsample=0.8,\n",
    "        colsample_bytree=0.8,\n",
    "        objective= 'binary:logistic',\n",
    "        nthread=4,\n",
    "        scale_pos_weight=26.4, #解决样本不均衡的问题\n",
    "        seed=27)\n",
    "\n",
    "alg_after=xgboostModelFit(xgb2, train_extends, validation_extends, predictors2)\n",
    "\n"
   ]
  },
  {
   "cell_type": "code",
   "execution_count": 34,
   "metadata": {
    "collapsed": false
   },
   "outputs": [
    {
     "name": "stdout",
     "output_type": "stream",
     "text": [
      "176\n",
      "Index([u'id', u'tag', u'target', u'ps_ind_01', u'ps_ind_03', u'ps_ind_06_bin',\n",
      "       u'ps_ind_07_bin', u'ps_ind_08_bin', u'ps_ind_09_bin', u'ps_ind_10_bin',\n",
      "       ...\n",
      "       u'ps_car_15^2', u'ps_car_15 ps_calc_01', u'ps_car_15 ps_calc_02',\n",
      "       u'ps_car_15 ps_calc_03', u'ps_calc_01^2', u'ps_calc_01 ps_calc_02',\n",
      "       u'ps_calc_01 ps_calc_03', u'ps_calc_02^2', u'ps_calc_02 ps_calc_03',\n",
      "       u'ps_calc_03^2'],\n",
      "      dtype='object', length=179)\n"
     ]
    }
   ],
   "source": [
    "print len(predictors2)\n",
    "print train_extends.columns"
   ]
  },
  {
   "cell_type": "code",
   "execution_count": 35,
   "metadata": {
    "collapsed": false
   },
   "outputs": [
    {
     "data": {
      "text/plain": [
       "<matplotlib.axes._subplots.AxesSubplot at 0x10eaca710>"
      ]
     },
     "execution_count": 35,
     "metadata": {},
     "output_type": "execute_result"
    },
    {
     "data": {
      "image/png": "[encoded data removed]",
      "text/plain": [
       "<matplotlib.figure.Figure at 0x1142d6190>"
      ]
     },
     "metadata": {},
     "output_type": "display_data"
    }
   ],
   "source": [
    "xgb.plot_importance(alg_after,height=0.1)"
   ]
  },
  {
   "cell_type": "markdown",
   "metadata": {
    "collapsed": true
   },
   "source": [
    "# 结论\n",
    "\n",
    "模型及参数相同的情况下，增加特征工程后，对最终结果有正向效果。\n",
    "\n",
    "特征工程之前： GINI Score (Train)为 0.289036\n",
    "\n",
    "特征工程之后： GINI Score (Train)为 0.297813\n",
    "\n",
    "不过，新训练集的训练效果和测试效果差别略大，需要调参数。"
   ]
  },
  {
   "cell_type": "code",
   "execution_count": 36,
   "metadata": {
    "collapsed": false
   },
   "outputs": [
    {
     "name": "stdout",
     "output_type": "stream",
     "text": [
      "[ 0.05718954  0.05392157  0.04248366  0.03921569  0.03431373  0.03104575\n",
      "  0.02941176  0.02777778  0.02287582  0.02287582  0.02124183  0.02124183\n",
      "  0.01960784  0.01960784  0.01797386  0.01633987  0.01633987  0.01470588\n",
      "  0.01470588  0.01470588  0.01470588  0.01470588  0.01470588  0.0130719\n",
      "  0.0130719   0.0130719   0.0130719   0.0130719   0.0130719   0.01143791\n",
      "  0.00980392  0.00980392  0.00980392  0.00816994  0.00816994  0.00816994\n",
      "  0.00816994  0.00816994  0.00816994  0.00816994  0.00816994  0.00816994\n",
      "  0.00653595  0.00653595  0.00653595  0.00653595  0.00653595  0.00653595\n",
      "  0.00653595  0.00490196  0.00490196  0.00490196  0.00490196  0.00490196\n",
      "  0.00490196  0.00490196  0.00490196  0.00490196  0.00490196  0.00490196\n",
      "  0.00490196  0.00490196  0.00490196  0.00490196  0.00490196  0.00490196\n",
      "  0.00326797  0.00326797  0.00326797  0.00326797  0.00326797  0.00326797\n",
      "  0.00326797  0.00326797  0.00326797  0.00326797  0.00326797  0.00326797\n",
      "  0.00326797  0.00326797  0.00326797  0.00326797  0.00326797  0.00326797\n",
      "  0.00163399  0.00163399  0.00163399  0.00163399  0.00163399  0.00163399\n",
      "  0.00163399  0.00163399  0.00163399  0.00163399  0.00163399  0.00163399\n",
      "  0.00163399  0.00163399  0.00163399  0.00163399  0.00163399  0.00163399\n",
      "  0.00163399  0.00163399  0.00163399  0.00163399  0.00163399  0.          0.\n",
      "  0.          0.          0.          0.          0.          0.          0.\n",
      "  0.          0.          0.          0.          0.          0.          0.\n",
      "  0.          0.          0.          0.          0.          0.          0.\n",
      "  0.          0.          0.          0.          0.          0.          0.\n",
      "  0.          0.          0.          0.          0.          0.          0.\n",
      "  0.          0.          0.          0.          0.          0.          0.\n",
      "  0.          0.          0.          0.          0.          0.          0.\n",
      "  0.          0.          0.          0.          0.          0.          0.\n",
      "  0.          0.          0.          0.          0.          0.          0.\n",
      "  0.          0.          0.          0.        ]\n"
     ]
    }
   ],
   "source": [
    "# use feature importance for feature selection\n",
    "from numpy import loadtxt\n",
    "from numpy import sort\n",
    "from xgboost import XGBClassifier\n",
    "from sklearn.model_selection import train_test_split\n",
    "from sklearn.metrics import accuracy_score\n",
    "from sklearn.feature_selection import SelectFromModel\n",
    "\n",
    "thresholds = - sort(- xgb2.feature_importances_)\n",
    "print thresholds"
   ]
  },
  {
   "cell_type": "code",
   "execution_count": 37,
   "metadata": {
    "collapsed": false
   },
   "outputs": [
    {
     "name": "stdout",
     "output_type": "stream",
     "text": [
      "ps_ind_01 : 0.0147059\n",
      "ps_ind_03 : 0.0571895\n",
      "ps_ind_06_bin : 0.0212418\n",
      "ps_ind_07_bin : 0.0179739\n",
      "ps_ind_08_bin : 0.00653595\n",
      "ps_ind_09_bin : 0.0130719\n",
      "ps_ind_10_bin : 0.0\n",
      "ps_ind_11_bin : 0.0\n",
      "ps_ind_12_bin : 0.0\n",
      "ps_ind_13_bin : 0.0\n",
      "ps_ind_14 : 0.0\n",
      "ps_ind_15 : 0.0539216\n",
      "ps_ind_16_bin : 0.0196078\n",
      "ps_ind_17_bin : 0.0343137\n",
      "ps_ind_18_bin : 0.0\n",
      "ps_reg_01 : 0.00326797\n",
      "ps_reg_02 : 0.0\n",
      "ps_reg_03 : 0.0147059\n",
      "ps_car_11 : 0.00326797\n",
      "ps_car_12 : 0.00163399\n",
      "ps_car_13 : 0.0424837\n",
      "ps_car_14 : 0.0196078\n",
      "ps_car_15 : 0.00490196\n",
      "ps_calc_01 : 0.0\n",
      "ps_calc_02 : 0.0\n",
      "ps_calc_03 : 0.0\n",
      "ps_calc_04 : 0.00163399\n",
      "ps_calc_05 : 0.00326797\n",
      "ps_calc_06 : 0.00326797\n",
      "ps_calc_07 : 0.0\n",
      "ps_calc_08 : 0.00163399\n",
      "ps_calc_09 : 0.00490196\n",
      "ps_calc_10 : 0.00490196\n",
      "ps_calc_11 : 0.00163399\n",
      "ps_calc_12 : 0.0\n",
      "ps_calc_13 : 0.00490196\n",
      "ps_calc_14 : 0.00816994\n",
      "ps_calc_15_bin : 0.00163399\n",
      "ps_calc_16_bin : 0.0\n",
      "ps_calc_17_bin : 0.0\n",
      "ps_calc_18_bin : 0.0\n",
      "ps_calc_19_bin : 0.0\n",
      "ps_calc_20_bin : 0.0\n",
      "ps_car_11_cat_tm : 0.0130719\n",
      "ps_ind_02_cat_1 : 0.00816994\n",
      "ps_ind_02_cat_2 : 0.00326797\n",
      "ps_ind_02_cat_3 : 0.0\n",
      "ps_ind_02_cat_4 : 0.0\n",
      "ps_ind_04_cat_0 : 0.00326797\n",
      "ps_ind_04_cat_1 : 0.00163399\n",
      "ps_ind_05_cat_0 : 0.0277778\n",
      "ps_ind_05_cat_1 : 0.0\n",
      "ps_ind_05_cat_2 : 0.00326797\n",
      "ps_ind_05_cat_3 : 0.00653595\n",
      "ps_ind_05_cat_4 : 0.0\n",
      "ps_ind_05_cat_5 : 0.00163399\n",
      "ps_ind_05_cat_6 : 0.00980392\n",
      "ps_car_01_cat_0 : 0.0\n",
      "ps_car_01_cat_1 : 0.00163399\n",
      "ps_car_01_cat_2 : 0.0\n",
      "ps_car_01_cat_3 : 0.00326797\n",
      "ps_car_01_cat_4 : 0.00163399\n",
      "ps_car_01_cat_5 : 0.0\n",
      "ps_car_01_cat_6 : 0.00326797\n",
      "ps_car_01_cat_7 : 0.0130719\n",
      "ps_car_01_cat_8 : 0.0\n",
      "ps_car_01_cat_9 : 0.00816994\n",
      "ps_car_01_cat_10 : 0.0\n",
      "ps_car_01_cat_11 : 0.00163399\n",
      "ps_car_02_cat_0 : 0.00163399\n",
      "ps_car_02_cat_1 : 0.0\n",
      "ps_car_03_cat_0 : 0.0\n",
      "ps_car_03_cat_1 : 0.0228758\n",
      "ps_car_04_cat_1 : 0.0\n",
      "ps_car_04_cat_2 : 0.00490196\n",
      "ps_car_04_cat_3 : 0.0\n",
      "ps_car_04_cat_4 : 0.0\n",
      "ps_car_04_cat_5 : 0.0\n",
      "ps_car_04_cat_6 : 0.0\n",
      "ps_car_04_cat_7 : 0.0\n",
      "ps_car_04_cat_8 : 0.0\n",
      "ps_car_04_cat_9 : 0.00163399\n",
      "ps_car_05_cat_0 : 0.00163399\n",
      "ps_car_05_cat_1 : 0.00163399\n",
      "ps_car_06_cat_1 : 0.00163399\n",
      "ps_car_06_cat_2 : 0.00163399\n",
      "ps_car_06_cat_3 : 0.0\n",
      "ps_car_06_cat_4 : 0.00326797\n",
      "ps_car_06_cat_5 : 0.0\n",
      "ps_car_06_cat_6 : 0.0\n",
      "ps_car_06_cat_7 : 0.00163399\n",
      "ps_car_06_cat_8 : 0.00163399\n",
      "ps_car_06_cat_9 : 0.0\n",
      "ps_car_06_cat_10 : 0.0\n",
      "ps_car_06_cat_11 : 0.0\n",
      "ps_car_06_cat_12 : 0.0\n",
      "ps_car_06_cat_13 : 0.0\n",
      "ps_car_06_cat_14 : 0.0\n",
      "ps_car_06_cat_15 : 0.0\n",
      "ps_car_06_cat_16 : 0.00163399\n",
      "ps_car_06_cat_17 : 0.0\n",
      "ps_car_07_cat_0 : 0.00980392\n",
      "ps_car_07_cat_1 : 0.0294118\n",
      "ps_car_08_cat_1 : 0.0\n",
      "ps_car_09_cat_0 : 0.00163399\n",
      "ps_car_09_cat_1 : 0.00816994\n",
      "ps_car_09_cat_2 : 0.00163399\n",
      "ps_car_09_cat_3 : 0.0\n",
      "ps_car_09_cat_4 : 0.0\n",
      "ps_car_10_cat_1 : 0.0\n",
      "ps_car_10_cat_2 : 0.0\n",
      "ps_reg_01.1 : 0.0\n",
      "ps_reg_02.1 : 0.0\n",
      "ps_reg_03.1 : 0.0\n",
      "ps_car_12.1 : 0.0\n",
      "ps_car_13.1 : 0.00490196\n",
      "ps_car_14.1 : 0.0\n",
      "ps_car_15.1 : 0.0\n",
      "ps_calc_01.1 : 0.0\n",
      "ps_calc_02.1 : 0.0\n",
      "ps_calc_03.1 : 0.0\n",
      "ps_reg_01^2 : 0.0\n",
      "ps_reg_01 ps_reg_02 : 0.00816994\n",
      "ps_reg_01 ps_reg_03 : 0.00816994\n",
      "ps_reg_01 ps_car_12 : 0.00326797\n",
      "ps_reg_01 ps_car_13 : 0.0228758\n",
      "ps_reg_01 ps_car_14 : 0.0130719\n",
      "ps_reg_01 ps_car_15 : 0.0130719\n",
      "ps_reg_01 ps_calc_01 : 0.00653595\n",
      "ps_reg_01 ps_calc_02 : 0.00490196\n",
      "ps_reg_01 ps_calc_03 : 0.00163399\n",
      "ps_reg_02^2 : 0.0\n",
      "ps_reg_02 ps_reg_03 : 0.0147059\n",
      "ps_reg_02 ps_car_12 : 0.00653595\n",
      "ps_reg_02 ps_car_13 : 0.0212418\n",
      "ps_reg_02 ps_car_14 : 0.00653595\n",
      "ps_reg_02 ps_car_15 : 0.00490196\n",
      "ps_reg_02 ps_calc_01 : 0.00326797\n",
      "ps_reg_02 ps_calc_02 : 0.00490196\n",
      "ps_reg_02 ps_calc_03 : 0.0\n",
      "ps_reg_03^2 : 0.00816994\n",
      "ps_reg_03 ps_car_12 : 0.0114379\n",
      "ps_reg_03 ps_car_13 : 0.0392157\n",
      "ps_reg_03 ps_car_14 : 0.0147059\n",
      "ps_reg_03 ps_car_15 : 0.0163399\n",
      "ps_reg_03 ps_calc_01 : 0.0163399\n",
      "ps_reg_03 ps_calc_02 : 0.00980392\n",
      "ps_reg_03 ps_calc_03 : 0.00490196\n",
      "ps_car_12^2 : 0.0\n",
      "ps_car_12 ps_car_13 : 0.0310458\n",
      "ps_car_12 ps_car_14 : 0.00490196\n",
      "ps_car_12 ps_car_15 : 0.00490196\n",
      "ps_car_12 ps_calc_01 : 0.00326797\n",
      "ps_car_12 ps_calc_02 : 0.00326797\n",
      "ps_car_12 ps_calc_03 : 0.00163399\n",
      "ps_car_13^2 : 0.00490196\n",
      "ps_car_13 ps_car_14 : 0.00816994\n",
      "ps_car_13 ps_car_15 : 0.0130719\n",
      "ps_car_13 ps_calc_01 : 0.00490196\n",
      "ps_car_13 ps_calc_02 : 0.00490196\n",
      "ps_car_13 ps_calc_03 : 0.00326797\n",
      "ps_car_14^2 : 0.00326797\n",
      "ps_car_14 ps_car_15 : 0.0147059\n",
      "ps_car_14 ps_calc_01 : 0.00490196\n",
      "ps_car_14 ps_calc_02 : 0.00816994\n",
      "ps_car_14 ps_calc_03 : 0.0147059\n",
      "ps_car_15^2 : 0.0\n",
      "ps_car_15 ps_calc_01 : 0.00326797\n",
      "ps_car_15 ps_calc_02 : 0.00326797\n",
      "ps_car_15 ps_calc_03 : 0.00653595\n",
      "ps_calc_01^2 : 0.0\n",
      "ps_calc_01 ps_calc_02 : 0.0\n",
      "ps_calc_01 ps_calc_03 : 0.00653595\n",
      "ps_calc_02^2 : 0.0\n",
      "ps_calc_02 ps_calc_03 : 0.00490196\n",
      "ps_calc_03^2 : 0.0\n"
     ]
    }
   ],
   "source": [
    "i=0\n",
    "feature_new=[]\n",
    "imp = xgb2.feature_importances_\n",
    "while i < len(predictors2):\n",
    "    print predictors2[i],\":\",imp[i]\n",
    "    if imp[i]>0.004:\n",
    "        feature_new.append(predictors2[i])\n",
    "    i=i+1"
   ]
  },
  {
   "cell_type": "code",
   "execution_count": 38,
   "metadata": {
    "collapsed": false
   },
   "outputs": [
    {
     "name": "stdout",
     "output_type": "stream",
     "text": [
      "66\n",
      "\n",
      "Model Report- train data\n",
      "Accuracy（Train） : 0.6246\n",
      "AUC Score (Train): 0.630315\n",
      "GINI Score (Train): 0.260661\n"
     ]
    },
    {
     "name": "stderr",
     "output_type": "stream",
     "text": [
      "/Library/Python/2.7/site-packages/ipykernel/__main__.py:42: SettingWithCopyWarning: \n",
      "A value is trying to be set on a copy of a slice from a DataFrame.\n",
      "Try using .loc[row_indexer,col_indexer] = value instead\n",
      "\n",
      "See the caveats in the documentation: http://pandas.pydata.org/pandas-docs/stable/indexing.html#indexing-view-versus-copy\n"
     ]
    },
    {
     "name": "stdout",
     "output_type": "stream",
     "text": [
      "\n",
      "Model Report- test data\n",
      "Accuracy（Test） : 0.6246\n",
      "AUC Score (Test): 0.619978\n",
      "GINI Score (Test): 0.240039\n"
     ]
    },
    {
     "name": "stderr",
     "output_type": "stream",
     "text": [
      "/Library/Python/2.7/site-packages/ipykernel/__main__.py:43: SettingWithCopyWarning: \n",
      "A value is trying to be set on a copy of a slice from a DataFrame.\n",
      "Try using .loc[row_indexer,col_indexer] = value instead\n",
      "\n",
      "See the caveats in the documentation: http://pandas.pydata.org/pandas-docs/stable/indexing.html#indexing-view-versus-copy\n"
     ]
    }
   ],
   "source": [
    "predictors2_new = [x for x in train_extends.columns if x in feature_new]\n",
    "print len(predictors2_new)\n",
    "\n",
    "xgb2_new = XGBClassifier(\n",
    "        learning_rate =0.01,\n",
    "        n_estimators=20,\n",
    "        max_depth=5,\n",
    "        min_child_weight=1,\n",
    "        gamma=0,\n",
    "        subsample=0.8,\n",
    "        colsample_bytree=0.8,\n",
    "        objective= 'binary:logistic',\n",
    "        nthread=4,\n",
    "        scale_pos_weight=26.4, #解决样本不均衡的问题\n",
    "        seed=27)\n",
    "\n",
    "alg_after2=xgboostModelFit(xgb2_new, train_extends, validation_extends, predictors2_new)"
   ]
  },
  {
   "cell_type": "code",
   "execution_count": null,
   "metadata": {
    "collapsed": true
   },
   "outputs": [],
   "source": []
  },
  {
   "cell_type": "code",
   "execution_count": null,
   "metadata": {
    "collapsed": true
   },
   "outputs": [],
   "source": []
  },
  {
   "cell_type": "code",
   "execution_count": null,
   "metadata": {
    "collapsed": true
   },
   "outputs": [],
   "source": []
  },
  {
   "cell_type": "markdown",
   "metadata": {
    "collapsed": true
   },
   "source": [
    "# 以下是最终测试数据效果"
   ]
  },
  {
   "cell_type": "markdown",
   "metadata": {},
   "source": [
    "## 特征工程之前"
   ]
  },
  {
   "cell_type": "code",
   "execution_count": 39,
   "metadata": {
    "collapsed": true
   },
   "outputs": [],
   "source": [
    "test1 = pd.read_csv(\"/Users/leidelong/competition/Porto_Seguro_Safe_Driver_Prediction/input/test.csv\")\n"
   ]
  },
  {
   "cell_type": "code",
   "execution_count": 40,
   "metadata": {
    "collapsed": false
   },
   "outputs": [],
   "source": [
    "#最终测试集\n",
    "test_raw= test1\n",
    "X_test_raw= test1[predictors1]\n",
    "y_raw_test_pred = alg_before.predict(X_test_raw)\n",
    "y_raw_test_predprob=alg_before.predict_proba(X_test_raw)[:,1]"
   ]
  },
  {
   "cell_type": "code",
   "execution_count": 41,
   "metadata": {
    "collapsed": false
   },
   "outputs": [
    {
     "name": "stdout",
     "output_type": "stream",
     "text": [
      "(892816, 1) (892816, 1)\n"
     ]
    }
   ],
   "source": [
    "X_ID = test_raw['id']\n",
    "X_ID=pd.DataFrame(X_ID)\n",
    "df_y_test_predprob=pd.DataFrame(y_raw_test_predprob)\n",
    "print df_y_test_predprob.shape,X_ID.shape"
   ]
  },
  {
   "cell_type": "code",
   "execution_count": 42,
   "metadata": {
    "collapsed": false
   },
   "outputs": [
    {
     "data": {
      "text/plain": [
       "(892816, 2)"
      ]
     },
     "execution_count": 42,
     "metadata": {},
     "output_type": "execute_result"
    }
   ],
   "source": [
    "result=pd.concat([X_ID,df_y_test_predprob],axis=1)\n",
    "result.columns = ['id', 'target']\n",
    "result.shape"
   ]
  },
  {
   "cell_type": "code",
   "execution_count": 43,
   "metadata": {
    "collapsed": true
   },
   "outputs": [],
   "source": [
    "result.to_csv(\"/Users/leidelong/competition/Porto_Seguro_Safe_Driver_Prediction/test_result_old.csv\",index=False)"
   ]
  },
  {
   "cell_type": "markdown",
   "metadata": {},
   "source": [
    "## 特征工程之后"
   ]
  },
  {
   "cell_type": "code",
   "execution_count": 44,
   "metadata": {
    "collapsed": true
   },
   "outputs": [],
   "source": [
    "test2 = pd.read_csv(\"/Users/leidelong/competition/Porto_Seguro_Safe_Driver_Prediction/input/test_extends.csv\")"
   ]
  },
  {
   "cell_type": "code",
   "execution_count": 45,
   "metadata": {
    "collapsed": false
   },
   "outputs": [
    {
     "name": "stdout",
     "output_type": "stream",
     "text": [
      "Index([u'id', u'tag', u'target', u'ps_ind_01', u'ps_ind_03', u'ps_ind_06_bin',\n",
      "       u'ps_ind_07_bin', u'ps_ind_08_bin', u'ps_ind_09_bin', u'ps_ind_10_bin',\n",
      "       ...\n",
      "       u'ps_car_15^2', u'ps_car_15 ps_calc_01', u'ps_car_15 ps_calc_02',\n",
      "       u'ps_car_15 ps_calc_03', u'ps_calc_01^2', u'ps_calc_01 ps_calc_02',\n",
      "       u'ps_calc_01 ps_calc_03', u'ps_calc_02^2', u'ps_calc_02 ps_calc_03',\n",
      "       u'ps_calc_03^2'],\n",
      "      dtype='object', length=179)\n",
      "Index([u'ps_ind_01', u'ps_ind_03', u'ps_ind_06_bin', u'ps_ind_07_bin',\n",
      "       u'ps_ind_08_bin', u'ps_ind_09_bin', u'ps_ind_10_bin', u'ps_ind_11_bin',\n",
      "       u'ps_ind_12_bin', u'ps_ind_13_bin',\n",
      "       ...\n",
      "       u'ps_car_15^2', u'ps_car_15 ps_calc_01', u'ps_car_15 ps_calc_02',\n",
      "       u'ps_car_15 ps_calc_03', u'ps_calc_01^2', u'ps_calc_01 ps_calc_02',\n",
      "       u'ps_calc_01 ps_calc_03', u'ps_calc_02^2', u'ps_calc_02 ps_calc_03',\n",
      "       u'ps_calc_03^2'],\n",
      "      dtype='object', length=176)\n"
     ]
    }
   ],
   "source": [
    "#最终测试集\n",
    "test_raw= test2\n",
    "print test_raw.columns\n",
    "X_test_raw= test2[predictors2]\n",
    "print X_test_raw.columns\n",
    "y_raw_test_pred = alg_after.predict(X_test_raw)\n",
    "y_raw_test_predprob=alg_after.predict_proba(X_test_raw)[:,1]"
   ]
  },
  {
   "cell_type": "code",
   "execution_count": 46,
   "metadata": {
    "collapsed": false
   },
   "outputs": [
    {
     "name": "stdout",
     "output_type": "stream",
     "text": [
      "(892816, 1) (892816, 1)\n"
     ]
    }
   ],
   "source": [
    "X_ID = test_raw['id']\n",
    "X_ID=pd.DataFrame(X_ID)\n",
    "df_y_test_predprob=pd.DataFrame(y_raw_test_predprob)\n",
    "print df_y_test_predprob.shape,X_ID.shape\n"
   ]
  },
  {
   "cell_type": "code",
   "execution_count": 47,
   "metadata": {
    "collapsed": false
   },
   "outputs": [
    {
     "data": {
      "text/plain": [
       "(892816, 2)"
      ]
     },
     "execution_count": 47,
     "metadata": {},
     "output_type": "execute_result"
    }
   ],
   "source": [
    "result=pd.concat([X_ID,df_y_test_predprob],axis=1)\n",
    "result.columns = ['id', 'target']\n",
    "result.shape"
   ]
  },
  {
   "cell_type": "code",
   "execution_count": 48,
   "metadata": {
    "collapsed": true
   },
   "outputs": [],
   "source": [
    "result.to_csv(\"/Users/leidelong/competition/Porto_Seguro_Safe_Driver_Prediction/test_result.csv\",index=False)"
   ]
  },
  {
   "cell_type": "markdown",
   "metadata": {},
   "source": [
    "# LB"
   ]
  },
  {
   "cell_type": "markdown",
   "metadata": {
    "collapsed": true
   },
   "source": [
    "**在leaderboard上，特征工程之前0.257，特征工程之后0.257。"
   ]
  },
  {
   "cell_type": "code",
   "execution_count": null,
   "metadata": {
    "collapsed": true
   },
   "outputs": [],
   "source": []
  },
  {
   "cell_type": "code",
   "execution_count": null,
   "metadata": {
    "collapsed": true
   },
   "outputs": [],
   "source": []
  },
  {
   "cell_type": "code",
   "execution_count": null,
   "metadata": {
    "collapsed": true
   },
   "outputs": [],
   "source": []
  }
 ],
 "metadata": {
  "kernelspec": {
   "display_name": "Python 2",
   "language": "python",
   "name": "python2"
  },
  "language_info": {
   "codemirror_mode": {
    "name": "ipython",
    "version": 2
   },
   "file_extension": ".py",
   "mimetype": "text/x-python",
   "name": "python",
   "nbconvert_exporter": "python",
   "pygments_lexer": "ipython2",
   "version": "2.7.10"
  }
 },
 "nbformat": 4,
 "nbformat_minor": 0
}
