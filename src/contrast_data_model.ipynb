{
 "cells": [
  {
   "cell_type": "code",
   "execution_count": 1,
   "metadata": {
    "collapsed": false
   },
   "outputs": [],
   "source": [
    "import pandas as pd\n",
    "import numpy as np\n",
    "\n",
    "train1 = pd.read_csv('/Users/leidelong/competition/Porto_Seguro_Safe_Driver_Prediction/input/train.csv')\n",
    "# test1 = pd.read_csv(\"/Users/leidelong/competition/Porto_Seguro_Safe_Driver_Prediction/input/test.csv\")\n",
    "\n",
    "train2 = pd.read_csv('/Users/leidelong/competition/Porto_Seguro_Safe_Driver_Prediction/input/train_extends.csv')\n",
    "# test2 = pd.read_csv(\"/Users/leidelong/competition/Porto_Seguro_Safe_Driver_Prediction/input/test_extends.csv\")\n",
    "\n",
    "target='target'\n",
    "IDcol = 'id'\n",
    "tag='tag'\n"
   ]
  },
  {
   "cell_type": "code",
   "execution_count": 8,
   "metadata": {
    "collapsed": false
   },
   "outputs": [
    {
     "name": "stderr",
     "output_type": "stream",
     "text": [
      "/Library/Python/2.7/site-packages/sklearn/cross_validation.py:41: DeprecationWarning: This module was deprecated in version 0.18 in favor of the model_selection module into which all the refactored classes and functions are moved. Also note that the interface of the new CV iterators are different from that of this module. This module will be removed in 0.20.\n",
      "  \"This module will be removed in 0.20.\", DeprecationWarning)\n",
      "/Library/Python/2.7/site-packages/sklearn/grid_search.py:42: DeprecationWarning: This module was deprecated in version 0.18 in favor of the model_selection module into which all the refactored classes and functions are moved. This module will be removed in 0.20.\n",
      "  DeprecationWarning)\n"
     ]
    }
   ],
   "source": [
    "#模型\n",
    "from sklearn.ensemble import GradientBoostingClassifier\n",
    "import xgboost as xgb\n",
    "from xgboost.sklearn import XGBClassifier\n",
    "\n",
    "\n",
    "from sklearn import cross_validation, metrics\n",
    "from sklearn.grid_search import GridSearchCV\n",
    "\n",
    "import matplotlib.pylab as plt\n",
    "%matplotlib inline\n",
    "from matplotlib.pylab import rcParams\n",
    "rcParams['figure.figsize'] = 12, 4\n"
   ]
  },
  {
   "cell_type": "code",
   "execution_count": 9,
   "metadata": {
    "collapsed": false
   },
   "outputs": [],
   "source": [
    "#评估方法\n",
    "def gini(actual, pred, cmpcol = 0, sortcol = 1):\n",
    "     assert( len(actual) == len(pred) )\n",
    "     all = np.asarray(np.c_[ actual, pred, np.arange(len(actual)) ], dtype=np.float)\n",
    "     all = all[ np.lexsort((all[:,2], -1*all[:,1])) ]\n",
    "     totalLosses = all[:,0].sum()\n",
    "     giniSum = all[:,0].cumsum().sum() / totalLosses\n",
    " \n",
    "     giniSum -= (len(actual) + 1) / 2.\n",
    "     return giniSum / len(actual)\n",
    "\n",
    "def gini_normalized(a, p):\n",
    "        return gini(a, p) / gini(a, a)\n",
    "    \n",
    "\n",
    "\n",
    "#模型训练\n",
    "def xgboostModelFit(alg, dtrain, dtest, predictors,useTrainCV=True, cv_folds=5, early_stopping_rounds=50):\n",
    "    \n",
    "    if useTrainCV:\n",
    "        xgb_param = alg.get_xgb_params()\n",
    "        xgtrain = xgb.DMatrix(dtrain[predictors].values, label=dtrain[target].values)\n",
    "        xgtest = xgb.DMatrix(dtest[predictors].values)\n",
    "        cvresult = xgb.cv(xgb_param, xgtrain, num_boost_round=alg.get_params()['n_estimators'], nfold=cv_folds,\n",
    "            metrics='auc', early_stopping_rounds=early_stopping_rounds)\n",
    "        alg.set_params(n_estimators=cvresult.shape[0])\n",
    "    \n",
    "    #模型训练\n",
    "    alg.fit(dtrain[predictors], dtrain['target'],eval_metric='auc')\n",
    "        \n",
    "    #模型预测-训练集\n",
    "    dtrain_predictions = alg.predict(dtrain[predictors])\n",
    "    dtrain_predprob = alg.predict_proba(dtrain[predictors])[:,1]\n",
    "        \n",
    "    #输出模型效果-训练集:\n",
    "    print \"\\nModel Report- train data\"\n",
    "    print \"Accuracy（Train） : %.4g\" % metrics.accuracy_score(dtrain['target'].values, dtrain_predictions)\n",
    "    print \"AUC Score (Train): %f\" % metrics.roc_auc_score(dtrain['target'], dtrain_predprob)\n",
    "    print \"GINI Score (Train): %f\" % gini_normalized(dtrain['target'], dtrain_predprob)\n",
    "    \n",
    "    #模型预测-测试集\n",
    "    dtest['prediction'] = alg.predict(dtest[predictors])\n",
    "    dtest['predprob'] = alg.predict_proba(dtest[predictors])[:,1]\n",
    "    #输出模型效果-测试集\n",
    "    print \"\\nModel Report- test data\"\n",
    "    print \"Accuracy（Test） : %.4g\" % metrics.accuracy_score(dtest['target'].values,dtest['prediction'])\n",
    "    print 'AUC Score (Test): %f' % metrics.roc_auc_score(dtest['target'], dtest['predprob'])\n",
    "    print \"GINI Score (Test): %f\" % gini_normalized(dtest['target'], dtest['predprob'])\n",
    "    \n",
    "    return alg"
   ]
  },
  {
   "cell_type": "code",
   "execution_count": 10,
   "metadata": {
    "collapsed": false
   },
   "outputs": [
    {
     "name": "stdout",
     "output_type": "stream",
     "text": [
      "\n",
      "Model Report- train data\n",
      "Accuracy（Train） : 0.6274\n",
      "AUC Score (Train): 0.644518\n",
      "GINI Score (Train): 0.289036\n",
      "\n",
      "Model Report- test data\n",
      "Accuracy（Test） : 0.6274\n",
      "AUC Score (Test): 0.644518\n",
      "GINI Score (Test): 0.289036\n"
     ]
    }
   ],
   "source": [
    "predictors1 = [x for x in train1.columns if x not in [target, IDcol,tag]]\n",
    "\n",
    "xgb1 = XGBClassifier(\n",
    "        learning_rate =0.1,\n",
    "        n_estimators=20,\n",
    "        max_depth=5,\n",
    "        min_child_weight=1,\n",
    "        gamma=0,\n",
    "        subsample=0.8,\n",
    "        colsample_bytree=0.8,\n",
    "        objective= 'binary:logistic',\n",
    "        nthread=4,\n",
    "        scale_pos_weight=26.4, #解决样本不均衡的问题\n",
    "        seed=27)\n",
    "\n",
    "alg_before=xgboostModelFit(xgb1, train1, train1, predictors1)"
   ]
  },
  {
   "cell_type": "code",
   "execution_count": 11,
   "metadata": {
    "collapsed": false,
    "scrolled": true
   },
   "outputs": [
    {
     "name": "stdout",
     "output_type": "stream",
     "text": [
      "\n",
      "Model Report- train data\n",
      "Accuracy（Train） : 0.7419\n",
      "AUC Score (Train): 0.794519\n",
      "GINI Score (Train): 0.589044\n",
      "\n",
      "Model Report- test data\n",
      "Accuracy（Test） : 0.7419\n",
      "AUC Score (Test): 0.794519\n",
      "GINI Score (Test): 0.589044\n"
     ]
    }
   ],
   "source": [
    "predictors2 = [x for x in train2.columns if x not in [target, IDcol,tag]]\n",
    "\n",
    "xgb2 = XGBClassifier(\n",
    "        learning_rate =0.1,\n",
    "        n_estimators=20,\n",
    "        max_depth=5,\n",
    "        min_child_weight=1,\n",
    "        gamma=0,\n",
    "        subsample=0.8,\n",
    "        colsample_bytree=0.8,\n",
    "        objective= 'binary:logistic',\n",
    "        nthread=4,\n",
    "        scale_pos_weight=26.4, #解决样本不均衡的问题\n",
    "        seed=27)\n",
    "\n",
    "alg_after=xgboostModelFit(xgb2, train2, train2, predictors2)"
   ]
  },
  {
   "cell_type": "markdown",
   "metadata": {
    "collapsed": true
   },
   "source": [
    "# 结论\n",
    "\n",
    "模型及参数相同的情况下，增加特征工程后，对最终结果有正向效果。\n",
    "\n",
    "特征工程之前： GINI Score (Train)为 0.289036\n",
    "\n",
    "特征工程之后： GINI Score (Train)为 0.589044\n",
    "\n",
    "不过，新训练集的GINI系数偏高，存在过拟合的问题。"
   ]
  },
  {
   "cell_type": "code",
   "execution_count": null,
   "metadata": {
    "collapsed": true
   },
   "outputs": [],
   "source": []
  },
  {
   "cell_type": "code",
   "execution_count": null,
   "metadata": {
    "collapsed": true
   },
   "outputs": [],
   "source": []
  },
  {
   "cell_type": "code",
   "execution_count": null,
   "metadata": {
    "collapsed": true
   },
   "outputs": [],
   "source": []
  },
  {
   "cell_type": "code",
   "execution_count": null,
   "metadata": {
    "collapsed": true
   },
   "outputs": [],
   "source": []
  },
  {
   "cell_type": "code",
   "execution_count": null,
   "metadata": {
    "collapsed": true
   },
   "outputs": [],
   "source": []
  },
  {
   "cell_type": "code",
   "execution_count": null,
   "metadata": {
    "collapsed": true
   },
   "outputs": [],
   "source": []
  }
 ],
 "metadata": {
  "kernelspec": {
   "display_name": "Python 2",
   "language": "python",
   "name": "python2"
  },
  "language_info": {
   "codemirror_mode": {
    "name": "ipython",
    "version": 2
   },
   "file_extension": ".py",
   "mimetype": "text/x-python",
   "name": "python",
   "nbconvert_exporter": "python",
   "pygments_lexer": "ipython2",
   "version": "2.7.10"
  }
 },
 "nbformat": 4,
 "nbformat_minor": 0
}
