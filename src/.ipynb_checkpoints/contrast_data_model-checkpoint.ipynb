{
 "cells": [
  {
   "cell_type": "code",
   "execution_count": 1,
   "metadata": {
    "collapsed": false
   },
   "outputs": [],
   "source": [
    "import pandas as pd\n",
    "import numpy as np\n",
    "\n",
    "train1 = pd.read_csv('/Users/leidelong/competition/Porto_Seguro_Safe_Driver_Prediction/input/train.csv')\n",
    "# test1 = pd.read_csv(\"/Users/leidelong/competition/Porto_Seguro_Safe_Driver_Prediction/input/test.csv\")\n",
    "\n",
    "train2 = pd.read_csv('/Users/leidelong/competition/Porto_Seguro_Safe_Driver_Prediction/input/train_extends.csv')\n",
    "\n",
    "target='target'\n",
    "IDcol = 'id'\n",
    "tag='tag'\n"
   ]
  },
  {
   "cell_type": "code",
   "execution_count": 2,
   "metadata": {
    "collapsed": false
   },
   "outputs": [
    {
     "name": "stdout",
     "output_type": "stream",
     "text": [
      "Index([u'Unnamed: 0', u'id', u'ps_calc_01', u'ps_calc_02', u'ps_calc_03',\n",
      "       u'ps_calc_04', u'ps_calc_05', u'ps_calc_06', u'ps_calc_07',\n",
      "       u'ps_calc_08',\n",
      "       ...\n",
      "       u'ps_car_15^2', u'ps_car_15 ps_calc_01', u'ps_car_15 ps_calc_02',\n",
      "       u'ps_car_15 ps_calc_03', u'ps_calc_01^2', u'ps_calc_01 ps_calc_02',\n",
      "       u'ps_calc_01 ps_calc_03', u'ps_calc_02^2', u'ps_calc_02 ps_calc_03',\n",
      "       u'ps_calc_03^2'],\n",
      "      dtype='object', length=176)\n"
     ]
    }
   ],
   "source": [
    "print train2.columns"
   ]
  },
  {
   "cell_type": "code",
   "execution_count": 3,
   "metadata": {
    "collapsed": false
   },
   "outputs": [
    {
     "name": "stderr",
     "output_type": "stream",
     "text": [
      "/Library/Python/2.7/site-packages/sklearn/cross_validation.py:41: DeprecationWarning: This module was deprecated in version 0.18 in favor of the model_selection module into which all the refactored classes and functions are moved. Also note that the interface of the new CV iterators are different from that of this module. This module will be removed in 0.20.\n",
      "  \"This module will be removed in 0.20.\", DeprecationWarning)\n"
     ]
    },
    {
     "name": "stdout",
     "output_type": "stream",
     "text": [
      "1    21694\n",
      "Name: target, dtype: int64\n",
      "0    573518\n",
      "Name: target, dtype: int64\n"
     ]
    }
   ],
   "source": [
    "#拆分数据集\n",
    "from sklearn.cross_validation import train_test_split  \n",
    "\n",
    "#标注正样本和负样本\n",
    "train1_pos=train1[train1['target']==1]\n",
    "print (train1_pos['target'].value_counts())\n",
    "train1_neg=train1[train1['target']==0]\n",
    "print (train1_neg['target'].value_counts())\n",
    "\n",
    "dtypes = train1.dtypes\n",
    "cols = train1.columns\n",
    "ty = dict(zip(cols,dtypes))\n",
    "\n",
    "#df转narray\n",
    "train1_pos=np.array(train1_pos)\n",
    "train1_neg=np.array(train1_neg)\n",
    "#数据集拆分\n",
    "train1_pos_new,validation1_pos_new = train_test_split(train1_pos,  \n",
    "                                                   test_size = 0.2,  \n",
    "                                                   random_state = 0)  \n",
    "train1_neg_new,validation1_neg_new = train_test_split(train1_neg,  \n",
    "                                                   test_size = 0.2,  \n",
    "                                                   random_state = 0)  \n",
    "#数据集拼接\n",
    "train1_new=np.concatenate([train1_pos_new,train1_neg_new],axis=0) #在纵轴上合并\n",
    "\n",
    "validation1_new=np.concatenate([validation1_pos_new,validation1_neg_new],axis=0) #在纵轴上合并\n",
    "\n",
    "\n",
    "#修改train、validation、test\n",
    "train_temp=pd.DataFrame(train1_new)\n",
    "train_temp.columns=train1.columns\n",
    "train=train_temp\n",
    "train_old = train.astype(ty)\n",
    "\n",
    "validation_temp=pd.DataFrame(validation1_new)\n",
    "validation_temp.columns=train1.columns\n",
    "validation=validation_temp\n",
    "validation_old = validation.astype(ty)\n"
   ]
  },
  {
   "cell_type": "code",
   "execution_count": 4,
   "metadata": {
    "collapsed": false
   },
   "outputs": [
    {
     "name": "stdout",
     "output_type": "stream",
     "text": [
      "1    21694\n",
      "Name: target, dtype: int64\n",
      "0    573518\n",
      "Name: target, dtype: int64\n"
     ]
    }
   ],
   "source": [
    "#拆分数据集\n",
    "from sklearn.cross_validation import train_test_split  \n",
    "\n",
    "#标注正样本和负样本\n",
    "train2_pos=train2[train2['target']==1]\n",
    "print (train2_pos['target'].value_counts())\n",
    "train2_neg=train2[train2['target']==0]\n",
    "print (train2_neg['target'].value_counts())\n",
    "\n",
    "dtypes = train2.dtypes\n",
    "cols = train2.columns\n",
    "ty = dict(zip(cols,dtypes))\n",
    "\n",
    "#df转narray\n",
    "train2_pos=np.array(train2_pos)\n",
    "train2_neg=np.array(train2_neg)\n",
    "#数据集拆分\n",
    "train2_pos_new,validation2_pos_new = train_test_split(train2_pos,  \n",
    "                                                   test_size = 0.2,  \n",
    "                                                   random_state = 0)  \n",
    "train2_neg_new,validation2_neg_new = train_test_split(train2_neg,  \n",
    "                                                   test_size = 0.2,  \n",
    "                                                   random_state = 0)  \n",
    "#数据集拼接\n",
    "train2_new=np.concatenate([train2_pos_new,train2_neg_new],axis=0) #在纵轴上合并\n",
    "\n",
    "validation2_new=np.concatenate([validation2_pos_new,validation2_neg_new],axis=0) #在纵轴上合并\n",
    "\n",
    "\n",
    "#修改train、validation、test\n",
    "train_temp=pd.DataFrame(train2_new)\n",
    "train_temp.columns=train2.columns\n",
    "train=train_temp\n",
    "train_extends = train.astype(ty)\n",
    "\n",
    "validation_temp=pd.DataFrame(validation2_new)\n",
    "validation_temp.columns=train2.columns\n",
    "validation=validation_temp\n",
    "validation_extends = validation.astype(ty)"
   ]
  },
  {
   "cell_type": "code",
   "execution_count": 5,
   "metadata": {
    "collapsed": false
   },
   "outputs": [
    {
     "name": "stdout",
     "output_type": "stream",
     "text": [
      "(476169, 59)\n",
      "id                  int64\n",
      "target              int64\n",
      "ps_ind_01           int64\n",
      "ps_ind_02_cat       int64\n",
      "ps_ind_03           int64\n",
      "ps_ind_04_cat       int64\n",
      "ps_ind_05_cat       int64\n",
      "ps_ind_06_bin       int64\n",
      "ps_ind_07_bin       int64\n",
      "ps_ind_08_bin       int64\n",
      "ps_ind_09_bin       int64\n",
      "ps_ind_10_bin       int64\n",
      "ps_ind_11_bin       int64\n",
      "ps_ind_12_bin       int64\n",
      "ps_ind_13_bin       int64\n",
      "ps_ind_14           int64\n",
      "ps_ind_15           int64\n",
      "ps_ind_16_bin       int64\n",
      "ps_ind_17_bin       int64\n",
      "ps_ind_18_bin       int64\n",
      "ps_reg_01         float64\n",
      "ps_reg_02         float64\n",
      "ps_reg_03         float64\n",
      "ps_car_01_cat       int64\n",
      "ps_car_02_cat       int64\n",
      "ps_car_03_cat       int64\n",
      "ps_car_04_cat       int64\n",
      "ps_car_05_cat       int64\n",
      "ps_car_06_cat       int64\n",
      "ps_car_07_cat       int64\n",
      "ps_car_08_cat       int64\n",
      "ps_car_09_cat       int64\n",
      "ps_car_10_cat       int64\n",
      "ps_car_11_cat       int64\n",
      "ps_car_11           int64\n",
      "ps_car_12         float64\n",
      "ps_car_13         float64\n",
      "ps_car_14         float64\n",
      "ps_car_15         float64\n",
      "ps_calc_01        float64\n",
      "ps_calc_02        float64\n",
      "ps_calc_03        float64\n",
      "ps_calc_04          int64\n",
      "ps_calc_05          int64\n",
      "ps_calc_06          int64\n",
      "ps_calc_07          int64\n",
      "ps_calc_08          int64\n",
      "ps_calc_09          int64\n",
      "ps_calc_10          int64\n",
      "ps_calc_11          int64\n",
      "ps_calc_12          int64\n",
      "ps_calc_13          int64\n",
      "ps_calc_14          int64\n",
      "ps_calc_15_bin      int64\n",
      "ps_calc_16_bin      int64\n",
      "ps_calc_17_bin      int64\n",
      "ps_calc_18_bin      int64\n",
      "ps_calc_19_bin      int64\n",
      "ps_calc_20_bin      int64\n",
      "dtype: object\n"
     ]
    }
   ],
   "source": [
    "print train_old.shape\n",
    "print train_old.dtypes"
   ]
  },
  {
   "cell_type": "code",
   "execution_count": 6,
   "metadata": {
    "collapsed": false
   },
   "outputs": [
    {
     "name": "stdout",
     "output_type": "stream",
     "text": [
      "(476169, 176)\n",
      "Unnamed: 0                 int64\n",
      "id                         int64\n",
      "ps_calc_01               float64\n",
      "ps_calc_02               float64\n",
      "ps_calc_03               float64\n",
      "ps_calc_04                 int64\n",
      "ps_calc_05                 int64\n",
      "ps_calc_06                 int64\n",
      "ps_calc_07                 int64\n",
      "ps_calc_08                 int64\n",
      "ps_calc_09                 int64\n",
      "ps_calc_10                 int64\n",
      "ps_calc_11                 int64\n",
      "ps_calc_12                 int64\n",
      "ps_calc_13                 int64\n",
      "ps_calc_14                 int64\n",
      "ps_calc_15_bin             int64\n",
      "ps_calc_16_bin             int64\n",
      "ps_calc_17_bin             int64\n",
      "ps_calc_18_bin             int64\n",
      "ps_calc_19_bin             int64\n",
      "ps_calc_20_bin             int64\n",
      "ps_car_11                float64\n",
      "ps_car_12                float64\n",
      "ps_car_13                float64\n",
      "ps_car_14                float64\n",
      "ps_car_15                float64\n",
      "ps_ind_01                  int64\n",
      "ps_ind_03                  int64\n",
      "ps_ind_06_bin              int64\n",
      "                          ...   \n",
      "ps_reg_03 ps_calc_02     float64\n",
      "ps_reg_03 ps_calc_03     float64\n",
      "ps_car_12^2              float64\n",
      "ps_car_12 ps_car_13      float64\n",
      "ps_car_12 ps_car_14      float64\n",
      "ps_car_12 ps_car_15      float64\n",
      "ps_car_12 ps_calc_01     float64\n",
      "ps_car_12 ps_calc_02     float64\n",
      "ps_car_12 ps_calc_03     float64\n",
      "ps_car_13^2              float64\n",
      "ps_car_13 ps_car_14      float64\n",
      "ps_car_13 ps_car_15      float64\n",
      "ps_car_13 ps_calc_01     float64\n",
      "ps_car_13 ps_calc_02     float64\n",
      "ps_car_13 ps_calc_03     float64\n",
      "ps_car_14^2              float64\n",
      "ps_car_14 ps_car_15      float64\n",
      "ps_car_14 ps_calc_01     float64\n",
      "ps_car_14 ps_calc_02     float64\n",
      "ps_car_14 ps_calc_03     float64\n",
      "ps_car_15^2              float64\n",
      "ps_car_15 ps_calc_01     float64\n",
      "ps_car_15 ps_calc_02     float64\n",
      "ps_car_15 ps_calc_03     float64\n",
      "ps_calc_01^2             float64\n",
      "ps_calc_01 ps_calc_02    float64\n",
      "ps_calc_01 ps_calc_03    float64\n",
      "ps_calc_02^2             float64\n",
      "ps_calc_02 ps_calc_03    float64\n",
      "ps_calc_03^2             float64\n",
      "Length: 176, dtype: object\n"
     ]
    }
   ],
   "source": [
    "print train_extends.shape\n",
    "print train_extends.dtypes\n"
   ]
  },
  {
   "cell_type": "code",
   "execution_count": 7,
   "metadata": {
    "collapsed": false
   },
   "outputs": [
    {
     "name": "stderr",
     "output_type": "stream",
     "text": [
      "/Library/Python/2.7/site-packages/sklearn/grid_search.py:42: DeprecationWarning: This module was deprecated in version 0.18 in favor of the model_selection module into which all the refactored classes and functions are moved. This module will be removed in 0.20.\n",
      "  DeprecationWarning)\n"
     ]
    }
   ],
   "source": [
    "#模型\n",
    "from sklearn.ensemble import GradientBoostingClassifier\n",
    "import xgboost as xgb\n",
    "from xgboost.sklearn import XGBClassifier\n",
    "\n",
    "\n",
    "from sklearn import cross_validation, metrics\n",
    "from sklearn.grid_search import GridSearchCV\n",
    "\n",
    "import matplotlib.pylab as plt\n",
    "%matplotlib inline\n",
    "from matplotlib.pylab import rcParams\n",
    "rcParams['figure.figsize'] = 12, 4\n"
   ]
  },
  {
   "cell_type": "code",
   "execution_count": 8,
   "metadata": {
    "collapsed": false
   },
   "outputs": [],
   "source": [
    "#评估方法\n",
    "def gini(actual, pred, cmpcol = 0, sortcol = 1):\n",
    "     assert( len(actual) == len(pred) )\n",
    "     all = np.asarray(np.c_[ actual, pred, np.arange(len(actual)) ], dtype=np.float)\n",
    "     all = all[ np.lexsort((all[:,2], -1*all[:,1])) ]\n",
    "     totalLosses = all[:,0].sum()\n",
    "     giniSum = all[:,0].cumsum().sum() / totalLosses\n",
    " \n",
    "     giniSum -= (len(actual) + 1) / 2.\n",
    "     return giniSum / len(actual)\n",
    "\n",
    "def gini_normalized(a, p):\n",
    "        return gini(a, p) / gini(a, a)\n",
    "    \n",
    "\n",
    "\n",
    "#模型训练\n",
    "def xgboostModelFit(alg, dtrain, dtest, predictors,useTrainCV=True, cv_folds=5, early_stopping_rounds=50):\n",
    "    \n",
    "    if useTrainCV:\n",
    "        xgb_param = alg.get_xgb_params()\n",
    "        xgtrain = xgb.DMatrix(dtrain[predictors].values, label=dtrain[target].values)\n",
    "        xgtest = xgb.DMatrix(dtest[predictors].values)\n",
    "        cvresult = xgb.cv(xgb_param, xgtrain, num_boost_round=alg.get_params()['n_estimators'], nfold=cv_folds,\n",
    "            metrics='auc', early_stopping_rounds=early_stopping_rounds)\n",
    "        alg.set_params(n_estimators=cvresult.shape[0])\n",
    "    \n",
    "    #模型训练\n",
    "    alg.fit(dtrain[predictors], dtrain['target'],eval_metric='auc')\n",
    "        \n",
    "    #模型预测-训练集\n",
    "    dtrain_predictions = alg.predict(dtrain[predictors])\n",
    "    dtrain_predprob = alg.predict_proba(dtrain[predictors])[:,1]\n",
    "        \n",
    "    #输出模型效果-训练集:\n",
    "    print \"\\nModel Report- train data\"\n",
    "    print \"Accuracy（Train） : %.4g\" % metrics.accuracy_score(dtrain['target'].values, dtrain_predictions)\n",
    "    print \"AUC Score (Train): %f\" % metrics.roc_auc_score(dtrain['target'], dtrain_predprob)\n",
    "    print \"GINI Score (Train): %f\" % gini_normalized(dtrain['target'], dtrain_predprob)\n",
    "    \n",
    "    #模型预测-测试集\n",
    "    dtest['prediction'] = alg.predict(dtest[predictors])\n",
    "    dtest['predprob'] = alg.predict_proba(dtest[predictors])[:,1]\n",
    "    #输出模型效果-测试集\n",
    "    print \"\\nModel Report- test data\"\n",
    "    print \"Accuracy（Test） : %.4g\" % metrics.accuracy_score(dtest['target'].values,dtest['prediction'])\n",
    "    print 'AUC Score (Test): %f' % metrics.roc_auc_score(dtest['target'], dtest['predprob'])\n",
    "    print \"GINI Score (Test): %f\" % gini_normalized(dtest['target'], dtest['predprob'])\n",
    "    \n",
    "    return alg"
   ]
  },
  {
   "cell_type": "code",
   "execution_count": 9,
   "metadata": {
    "collapsed": false
   },
   "outputs": [
    {
     "name": "stdout",
     "output_type": "stream",
     "text": [
      "\n",
      "Model Report- train data\n",
      "Accuracy（Train） : 0.6274\n",
      "AUC Score (Train): 0.644518\n",
      "GINI Score (Train): 0.289036\n",
      "\n",
      "Model Report- test data\n",
      "Accuracy（Test） : 0.6281\n",
      "AUC Score (Test): 0.644204\n",
      "GINI Score (Test): 0.288419\n"
     ]
    }
   ],
   "source": [
    "predictors1 = [x for x in train_old.columns if x not in [target, IDcol,tag]]\n",
    "\n",
    "xgb1 = XGBClassifier(\n",
    "        learning_rate =0.1,\n",
    "        n_estimators=20,\n",
    "        max_depth=5,\n",
    "        min_child_weight=1,\n",
    "        gamma=0,\n",
    "        subsample=0.8,\n",
    "        colsample_bytree=0.8,\n",
    "        objective= 'binary:logistic',\n",
    "        nthread=4,\n",
    "        scale_pos_weight=26.4, #解决样本不均衡的问题\n",
    "        seed=27)\n",
    "\n",
    "alg_before=xgboostModelFit(xgb1, train1, validation_old, predictors1)"
   ]
  },
  {
   "cell_type": "code",
   "execution_count": 10,
   "metadata": {
    "collapsed": false,
    "scrolled": true
   },
   "outputs": [
    {
     "name": "stdout",
     "output_type": "stream",
     "text": [
      "\n",
      "Model Report- train data\n",
      "Accuracy（Train） : 0.7402\n",
      "AUC Score (Train): 0.795844\n",
      "GINI Score (Train): 0.592536\n",
      "\n",
      "Model Report- test data\n",
      "Accuracy（Test） : 0.7401\n",
      "AUC Score (Test): 0.789326\n",
      "GINI Score (Test): 0.579483\n"
     ]
    }
   ],
   "source": [
    "predictors2 = [x for x in train_extends.columns if x not in [target, IDcol,tag]]\n",
    "\n",
    "xgb2 = XGBClassifier(\n",
    "        learning_rate =0.1,\n",
    "        n_estimators=20,\n",
    "        max_depth=5,\n",
    "        min_child_weight=1,\n",
    "        gamma=0,\n",
    "        subsample=0.8,\n",
    "        colsample_bytree=0.8,\n",
    "        objective= 'binary:logistic',\n",
    "        nthread=4,\n",
    "        scale_pos_weight=26.4, #解决样本不均衡的问题\n",
    "        seed=27)\n",
    "\n",
    "alg_after=xgboostModelFit(xgb2, train_extends, validation_extends, predictors2)"
   ]
  },
  {
   "cell_type": "markdown",
   "metadata": {
    "collapsed": true
   },
   "source": [
    "# 结论\n",
    "\n",
    "模型及参数相同的情况下，增加特征工程后，对最终结果有正向效果。\n",
    "\n",
    "特征工程之前： GINI Score (Train)为 0.289036\n",
    "\n",
    "特征工程之后： GINI Score (Train)为 0.589044\n",
    "\n",
    "不过，新训练集的GINI系数偏高，存在过拟合的问题。"
   ]
  },
  {
   "cell_type": "markdown",
   "metadata": {
    "collapsed": true
   },
   "source": [
    "# 以下是最终测试数据效果"
   ]
  },
  {
   "cell_type": "markdown",
   "metadata": {},
   "source": [
    "## 特征工程之前"
   ]
  },
  {
   "cell_type": "code",
   "execution_count": 11,
   "metadata": {
    "collapsed": true
   },
   "outputs": [],
   "source": [
    "test1 = pd.read_csv(\"/Users/leidelong/competition/Porto_Seguro_Safe_Driver_Prediction/input/test.csv\")\n"
   ]
  },
  {
   "cell_type": "code",
   "execution_count": 12,
   "metadata": {
    "collapsed": false
   },
   "outputs": [],
   "source": [
    "#最终测试集\n",
    "test_raw= test1\n",
    "X_test_raw= test1[predictors1]\n",
    "y_raw_test_pred = alg_before.predict(X_test_raw)\n",
    "y_raw_test_predprob=alg_before.predict_proba(X_test_raw)[:,1]"
   ]
  },
  {
   "cell_type": "code",
   "execution_count": 13,
   "metadata": {
    "collapsed": false
   },
   "outputs": [
    {
     "name": "stdout",
     "output_type": "stream",
     "text": [
      "(892816, 1) (892816, 1)\n"
     ]
    }
   ],
   "source": [
    "X_ID = test_raw['id']\n",
    "X_ID=pd.DataFrame(X_ID)\n",
    "df_y_test_predprob=pd.DataFrame(y_raw_test_predprob)\n",
    "print df_y_test_predprob.shape,X_ID.shape"
   ]
  },
  {
   "cell_type": "code",
   "execution_count": 14,
   "metadata": {
    "collapsed": false
   },
   "outputs": [
    {
     "data": {
      "text/plain": [
       "(892816, 2)"
      ]
     },
     "execution_count": 14,
     "metadata": {},
     "output_type": "execute_result"
    }
   ],
   "source": [
    "result=pd.concat([X_ID,df_y_test_predprob],axis=1)\n",
    "result.columns = ['id', 'target']\n",
    "result.shape"
   ]
  },
  {
   "cell_type": "code",
   "execution_count": 15,
   "metadata": {
    "collapsed": true
   },
   "outputs": [],
   "source": [
    "result.to_csv(\"/Users/leidelong/competition/Porto_Seguro_Safe_Driver_Prediction/test_result_old.csv\",index=False)"
   ]
  },
  {
   "cell_type": "markdown",
   "metadata": {},
   "source": [
    "## 特征工程之后"
   ]
  },
  {
   "cell_type": "code",
   "execution_count": 16,
   "metadata": {
    "collapsed": true
   },
   "outputs": [],
   "source": [
    "test2 = pd.read_csv(\"/Users/leidelong/competition/Porto_Seguro_Safe_Driver_Prediction/input/test_extends.csv\")"
   ]
  },
  {
   "cell_type": "code",
   "execution_count": 17,
   "metadata": {
    "collapsed": false
   },
   "outputs": [],
   "source": [
    "#最终测试集\n",
    "test_raw= test2\n",
    "X_test_raw= test2[predictors2]\n",
    "y_raw_test_pred = alg_after.predict(X_test_raw)\n",
    "y_raw_test_predprob=alg_after.predict_proba(X_test_raw)[:,1]"
   ]
  },
  {
   "cell_type": "code",
   "execution_count": 18,
   "metadata": {
    "collapsed": false
   },
   "outputs": [
    {
     "name": "stdout",
     "output_type": "stream",
     "text": [
      "(892816, 1) (892816, 1)\n"
     ]
    }
   ],
   "source": [
    "X_ID = test_raw['id']\n",
    "X_ID=pd.DataFrame(X_ID)\n",
    "df_y_test_predprob=pd.DataFrame(y_raw_test_predprob)\n",
    "print df_y_test_predprob.shape,X_ID.shape\n"
   ]
  },
  {
   "cell_type": "code",
   "execution_count": 19,
   "metadata": {
    "collapsed": false
   },
   "outputs": [
    {
     "data": {
      "text/plain": [
       "(892816, 2)"
      ]
     },
     "execution_count": 19,
     "metadata": {},
     "output_type": "execute_result"
    }
   ],
   "source": [
    "result=pd.concat([X_ID,df_y_test_predprob],axis=1)\n",
    "result.columns = ['id', 'target']\n",
    "result.shape"
   ]
  },
  {
   "cell_type": "code",
   "execution_count": 20,
   "metadata": {
    "collapsed": true
   },
   "outputs": [],
   "source": [
    "result.to_csv(\"/Users/leidelong/competition/Porto_Seguro_Safe_Driver_Prediction/test_result.csv\",index=False)"
   ]
  },
  {
   "cell_type": "markdown",
   "metadata": {},
   "source": [
    "# LB"
   ]
  },
  {
   "cell_type": "markdown",
   "metadata": {
    "collapsed": true
   },
   "source": [
    "在leaderboard上，特征工程之前0.260，特征工程之后0.155。初步认为是特征工程中存在问题。"
   ]
  },
  {
   "cell_type": "code",
   "execution_count": null,
   "metadata": {
    "collapsed": true
   },
   "outputs": [],
   "source": []
  },
  {
   "cell_type": "code",
   "execution_count": null,
   "metadata": {
    "collapsed": true
   },
   "outputs": [],
   "source": []
  },
  {
   "cell_type": "code",
   "execution_count": null,
   "metadata": {
    "collapsed": true
   },
   "outputs": [],
   "source": []
  }
 ],
 "metadata": {
  "kernelspec": {
   "display_name": "Python 2",
   "language": "python",
   "name": "python2"
  },
  "language_info": {
   "codemirror_mode": {
    "name": "ipython",
    "version": 2
   },
   "file_extension": ".py",
   "mimetype": "text/x-python",
   "name": "python",
   "nbconvert_exporter": "python",
   "pygments_lexer": "ipython2",
   "version": "2.7.10"
  }
 },
 "nbformat": 4,
 "nbformat_minor": 0
}
